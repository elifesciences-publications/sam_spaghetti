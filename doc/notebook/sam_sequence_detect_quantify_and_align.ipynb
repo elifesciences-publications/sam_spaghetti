{
 "cells": [
  {
   "cell_type": "markdown",
   "metadata": {},
   "source": [
    "## SAM Sequence Nuclei Detection, Quantification and Alignment"
   ]
  },
  {
   "cell_type": "code",
   "execution_count": null,
   "metadata": {},
   "outputs": [],
   "source": [
    "import logging\n",
    "import argparse\n",
    "import os\n",
    "\n",
    "import numpy as np\n",
    "import pandas as pd\n",
    "import matplotlib.pyplot as plt\n",
    "\n",
    "\n",
    "import sam_spaghetti\n",
    "from sam_spaghetti.sam_microscopy_loading import load_image_from_microscopy\n",
    "from sam_spaghetti.sam_sequence_info import get_experiment_name, get_experiment_microscopy, get_nomenclature_name, get_experiment_channels, get_experiment_reference, get_sequence_orientation, get_experiment_microscope_orientation, update_lut_ranges\n",
    "from sam_spaghetti.detection_quantification import detect_and_quantify\n",
    "from sam_spaghetti.sam_sequence_loading import load_sequence_signal_images, load_sequence_signal_image_slices, load_sequence_signal_data\n",
    "from sam_spaghetti.signal_image_slices import sequence_signal_image_slices, sequence_image_primordium_slices, sequence_signal_data_primordium_slices\n",
    "from sam_spaghetti.signal_image_plot import signal_image_plot, signal_nuclei_plot, signal_map_plot, signal_image_all_primordia_plot, signal_nuclei_all_primordia_plot, signal_map_all_primordia_plot\n",
    "from sam_spaghetti.signal_map_computation import compute_signal_maps, compute_primordia_signal_maps, compute_average_signal_maps, compute_average_primordia_signal_maps\n",
    "from sam_spaghetti.sequence_image_registration import register_sequence_images, apply_sequence_registration\n",
    "from sam_spaghetti.signal_data_compilation import compile_signal_data, compile_primordia_data\n",
    "from sam_spaghetti.sequence_growth_estimation import compute_growth\n",
    "from sam_spaghetti.sam_sequence_primordia_alignment import align_sam_sequence, detect_organ_primordia\n",
    "from sam_spaghetti.data_visualization import primordium_data_plot\n",
    "\n",
    "logging.getLogger().setLevel(logging.ERROR)\n",
    "\n",
    "%matplotlib inline"
   ]
  },
  {
   "cell_type": "markdown",
   "metadata": {},
   "source": [
    "### Parameters"
   ]
  },
  {
   "cell_type": "code",
   "execution_count": null,
   "metadata": {},
   "outputs": [],
   "source": [
    "data_dirname = sam_spaghetti.__path__[0]+\"/../../share/data\"\n",
    "microscopy_dirname = data_dirname+\"/microscopy\"\n",
    "image_dirname = data_dirname+\"/nuclei_images\""
   ]
  },
  {
   "cell_type": "code",
   "execution_count": null,
   "metadata": {},
   "outputs": [],
   "source": [
    "experiment = 'E35'\n",
    "sam_id = 4\n",
    "\n",
    "detection = False\n",
    "registration = False\n",
    "primordia_alignment = True\n",
    "\n",
    "projection_type = \"max_intensity\"\n",
    "signals_to_display = ['CLV3','DIIV']"
   ]
  },
  {
   "cell_type": "markdown",
   "metadata": {},
   "source": [
    "### Microscopy image loading & Nuclei detection"
   ]
  },
  {
   "cell_type": "code",
   "execution_count": null,
   "metadata": {
    "scrolled": true
   },
   "outputs": [],
   "source": [
    "experiment_name = get_experiment_name(experiment,data_dirname)\n",
    "if experiment_name == \"\":\n",
    "    logging.error(\"Experiment identifier \\\"\"+experiment+\"\\\" not recognized (consider adding it to the experiment_info.csv file in the data directory)\")\n",
    "else:\n",
    "    if detection and (microscopy_dirname is not None):\n",
    "        experiment_dirname = microscopy_dirname+\"/\"+get_experiment_microscopy(experiment,data_dirname)\n",
    "        if os.path.exists(experiment_dirname+\"/RAW\"):\n",
    "            experiment_dirname += \"/RAW\"\n",
    "\n",
    "        if not os.path.exists(experiment_dirname):\n",
    "            logging.warning(\"Microscopy directory not found for \"+experiment+\", no detection will be performed.\")\n",
    "        else:                    \n",
    "            microscopy_filenames = [experiment_dirname+\"/\"+f for f in os.listdir(experiment_dirname) if np.any([ext in f for ext in ['.czi','.lsm','.tif']])]\n",
    "            nomenclature_names = [get_nomenclature_name(microscopy_filename,data_dirname) for microscopy_filename in microscopy_filenames]\n",
    "            microscopy_filenames = [m for m,n in zip(microscopy_filenames,nomenclature_names) if n is not None and \"_sam\"+str(sam_id).zfill(2) in n]\n",
    "            \n",
    "            channel_names = get_experiment_channels(experiment, data_dirname)\n",
    "            reference_name = get_experiment_reference(experiment, data_dirname)\n",
    "        \n",
    "            for microscopy_filename in microscopy_filenames:\n",
    "                nomenclature_name = get_nomenclature_name(microscopy_filename,data_dirname)\n",
    "\n",
    "                if nomenclature_name is not None:\n",
    "                    sequence_name = nomenclature_name[:-4]\n",
    "                    if not os.path.exists(image_dirname):\n",
    "                        os.makedirs(image_dirname)\n",
    "                    if not os.path.exists(image_dirname+\"/\"+sequence_name):\n",
    "                        os.makedirs(image_dirname+\"/\"+sequence_name)\n",
    "                    if not os.path.exists(image_dirname+\"/\"+sequence_name+\"/\"+nomenclature_name):\n",
    "                        os.makedirs(image_dirname+\"/\"+sequence_name+\"/\"+nomenclature_name)\n",
    "\n",
    "                    if detection:\n",
    "                        logging.info(\"--> Running detection on \"+nomenclature_name+\" \"+reference_name)\n",
    "                        img_dict = load_image_from_microscopy(microscopy_filename, save_images=True, image_dirname=image_dirname, nomenclature_name=nomenclature_name, channel_names=channel_names, verbose=False, loglevel=1)\n",
    "                        detect_and_quantify(img_dict, reference_name=reference_name, signal_names=channel_names, image_dirname=image_dirname, nomenclature_name=nomenclature_name, verbose=False, loglevel=1)\n",
    "                else:\n",
    "                    logging.warning(\"--> No nomenclature found for \" + microscopy_filename + \", skipping...\")"
   ]
  },
  {
   "cell_type": "markdown",
   "metadata": {
    "scrolled": false
   },
   "source": [
    "### Multichannel image sequence"
   ]
  },
  {
   "cell_type": "code",
   "execution_count": null,
   "metadata": {
    "scrolled": false
   },
   "outputs": [],
   "source": [
    "sequence_name = experiment_name + \"_sam\" + str(sam_id).zfill(2)\n",
    "reference_name = get_experiment_reference(experiment, data_dirname)\n",
    "\n",
    "logging.info(\"--> Loading sequence \" + sequence_name)\n",
    "\n",
    "signal_images = load_sequence_signal_images(sequence_name, image_dirname, signal_names=[reference_name]+signals_to_display, verbose=False, loglevel=1)\n",
    "\n",
    "if len(signal_images)==0:\n",
    "    logging.error(\"--> Unable to load sequence \" + sequence_name + \" (make sure you have run detection first)\")\n",
    "    \n",
    "microscope_orientation = get_experiment_microscope_orientation(experiment, data_dirname)\n",
    "\n",
    "logging.info(\"--> Plotting signal images \" + sequence_name)\n",
    "signal_image_slices = load_sequence_signal_image_slices(sequence_name, image_dirname, projection_type=projection_type, aligned=False, verbose=False, loglevel=1)\n",
    "if len(signal_image_slices) == 0:\n",
    "    signal_image_slices = sequence_signal_image_slices(sequence_name, image_dirname, reference_name=reference_name, microscope_orientation=microscope_orientation,\n",
    "                                                       projection_type=projection_type, resolution=None, aligned=False, save_files=True, verbose=False, loglevel=1)\n",
    "\n",
    "figure = signal_image_plot({s:signal_image_slices[s] for s in [reference_name]+signals_to_display}, reference_name=reference_name, projection_type=projection_type, resolution=0.25, aligned=False, verbose=False, loglevel=1)"
   ]
  },
  {
   "cell_type": "markdown",
   "metadata": {},
   "source": [
    "### L1 Nuclei signal quantification"
   ]
  },
  {
   "cell_type": "code",
   "execution_count": null,
   "metadata": {
    "scrolled": false
   },
   "outputs": [],
   "source": [
    "r_max = list(signal_images[reference_name].values())[0].shape[0] * list(signal_images[reference_name].values())[0].voxelsize[0] / 2.\n",
    "signal_data = load_sequence_signal_data(sequence_name, image_dirname, normalized=False, aligned=False, verbose=False, loglevel=1)\n",
    "\n",
    "logging.info(\"--> Plotting detected nuclei signals \" + sequence_name)\n",
    "figure = signal_nuclei_plot(signal_data, r_max=r_max, signal_names=signals_to_display, normalized=False, verbose=False, loglevel=1)\n"
   ]
  },
  {
   "cell_type": "markdown",
   "metadata": {},
   "source": [
    "### 2D Maps of epidermal Auxin level"
   ]
  },
  {
   "cell_type": "code",
   "execution_count": null,
   "metadata": {},
   "outputs": [],
   "source": [
    "logging.info(\"--> Compiling signal data\")\n",
    "compile_signal_data([experiment], save_files=True, image_dirname=image_dirname, data_dirname=data_dirname, verbose=False, loglevel=1)\n",
    "normalized_signal_data = load_sequence_signal_data(sequence_name, image_dirname, normalized=True, aligned=False, verbose=False, loglevel=1)\n",
    "\n",
    "figure = signal_nuclei_plot(normalized_signal_data, r_max=r_max, signal_names=['Auxin'], normalized=False, verbose=False, loglevel=1)"
   ]
  },
  {
   "cell_type": "code",
   "execution_count": null,
   "metadata": {},
   "outputs": [],
   "source": [
    "signal_maps = compute_signal_maps(normalized_signal_data, signal_names=['Auxin'], normalized=False, polar=False, verbose=False, loglevel=1)\n",
    "logging.info(\"--> Plotting maps \"+sequence_name)\n",
    "figure = signal_map_plot(signal_maps, verbose=False, loglevel=1)"
   ]
  },
  {
   "cell_type": "markdown",
   "metadata": {},
   "source": [
    "### Sequence rigid image registration"
   ]
  },
  {
   "cell_type": "code",
   "execution_count": null,
   "metadata": {
    "scrolled": false
   },
   "outputs": [],
   "source": [
    "if registration:\n",
    "    logging.info(\"--> Sequence image registration \"+sequence_name)\n",
    "    register_sequence_images(sequence_name, microscope_orientation=microscope_orientation, pyramid_lowest_level=3, save_files=True, image_dirname=image_dirname, reference_name=reference_name, verbose=False, loglevel=1)\n",
    "apply_sequence_registration(sequence_name, microscope_orientation=microscope_orientation, save_files=True, image_dirname=image_dirname, reference_name=reference_name, verbose=False, loglevel=1)\n",
    "\n",
    "registered_signal_image_slices = sequence_signal_image_slices(sequence_name, image_dirname, reference_name=reference_name, microscope_orientation=microscope_orientation, projection_type=projection_type, resolution=None, registered=True, aligned=False, save_files=False, verbose=False, loglevel=1)\n",
    "figure = signal_image_plot({reference_name:registered_signal_image_slices[reference_name]}, reference_name=reference_name, projection_type=projection_type, resolution=None, aligned=False, verbose=False, loglevel=1)"
   ]
  },
  {
   "cell_type": "markdown",
   "metadata": {},
   "source": [
    "### Sequence alignment : CZ centering + P0 identification"
   ]
  },
  {
   "cell_type": "code",
   "execution_count": null,
   "metadata": {
    "scrolled": false
   },
   "outputs": [],
   "source": [
    "logging.info(\"--> Compiling signal data\")\n",
    "compile_signal_data([experiment], save_files=True, image_dirname=image_dirname, data_dirname=data_dirname, verbose=False, loglevel=1)\n",
    "\n",
    "if primordia_alignment:\n",
    "    logging.info(\"--> Sequence primordia alignment \"+sequence_name)\n",
    "    sam_orientation = get_sequence_orientation(sequence_name,data_dirname)\n",
    "    sequence_aligned_data = align_sam_sequence(sequence_name, image_dirname, sam_orientation=sam_orientation, save_files=True, verbose=False, loglevel=1)"
   ]
  },
  {
   "cell_type": "markdown",
   "metadata": {},
   "source": [
    "### Aligned signal maps"
   ]
  },
  {
   "cell_type": "code",
   "execution_count": null,
   "metadata": {},
   "outputs": [],
   "source": [
    "aligned_signal_data = load_sequence_signal_data(sequence_name, image_dirname, normalized=True, aligned=True, verbose=False, loglevel=1)\n",
    "\n",
    "aligned_signal_maps = compute_signal_maps(aligned_signal_data, signal_names=['CLV3','Auxin'], normalized=False, aligned=True, polar=False, verbose=False, loglevel=1)\n",
    "logging.info(\"--> Plotting aligned maps \"+sequence_name)\n",
    "figure = signal_map_plot(aligned_signal_maps, aligned=True, verbose=False, loglevel=1)"
   ]
  },
  {
   "cell_type": "markdown",
   "metadata": {},
   "source": [
    "### Detection of organ primordia"
   ]
  },
  {
   "cell_type": "code",
   "execution_count": null,
   "metadata": {
    "scrolled": false
   },
   "outputs": [],
   "source": [
    "detect_organ_primordia(sequence_name, image_dirname,  cell_radius=5, density_k=0.25, save_files=True, verbose=False, loglevel=1)"
   ]
  },
  {
   "cell_type": "code",
   "execution_count": null,
   "metadata": {},
   "outputs": [],
   "source": [
    "logging.info(\"--> Compiling signal data and primordia data\")\n",
    "compile_signal_data([experiment],save_files=True, image_dirname=image_dirname, data_dirname=data_dirname, aligned=True, verbose=False, loglevel=1)\n",
    "sequence_primordia_data = compile_primordia_data([experiment],save_files=True, image_dirname=image_dirname, data_dirname=data_dirname, verbose=False, loglevel=1)\n",
    "\n",
    "#primordium_range = [0]\n",
    "primordium_range = [-3,-2,-1,0,1,2,3,4,5]\n",
    "time_range = [0,5,10]\n",
    "\n",
    "for i_s,signal_name in enumerate(['radial_distance','Auxin']):\n",
    "    figure = plt.figure(i_s)\n",
    "    figure.clf()\n",
    "    primordium_data_plot(sequence_primordia_data,figure,signal_name=signal_name,primordium_range=primordium_range,time_range=time_range,data_to_plot='detected_auxin_extrema',figure_size=(18,6))\n",
    "\n"
   ]
  },
  {
   "cell_type": "code",
   "execution_count": null,
   "metadata": {},
   "outputs": [],
   "source": []
  }
 ],
 "metadata": {
  "kernelspec": {
   "display_name": "Python 3",
   "language": "python",
   "name": "python3"
  },
  "language_info": {
   "codemirror_mode": {
    "name": "ipython",
    "version": 3
   },
   "file_extension": ".py",
   "mimetype": "text/x-python",
   "name": "python",
   "nbconvert_exporter": "python",
   "pygments_lexer": "ipython3",
   "version": "3.7.6"
  }
 },
 "nbformat": 4,
 "nbformat_minor": 4
}
